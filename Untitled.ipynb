{
 "cells": [
  {
   "cell_type": "code",
   "execution_count": null,
   "id": "026721e5",
   "metadata": {},
   "outputs": [],
   "source": [
    "f(x) = -12x^4*sin(cos(x)) - 18x^3+5x^2 + 10x - 30\n",
    "\n",
    "Определить корни\n",
    "\n",
    "Найти интервалы, на которых функция возрастает\n",
    "\n",
    "Найти интервалы, на которых функция убывает\n",
    "\n",
    "Построить график\n",
    "\n",
    "Вычислить вершину\n",
    "\n",
    "Определить промежутки, на котором f > 0\n",
    "\n",
    "Определить промежутки, на котором f < 0"
   ]
  },
  {
   "cell_type": "code",
   "execution_count": 172,
   "id": "fa4b91d0",
   "metadata": {},
   "outputs": [],
   "source": [
    "import numpy as np\n",
    "import matplotlib.pyplot as plt\n",
    "import math"
   ]
  },
  {
   "cell_type": "code",
   "execution_count": 173,
   "id": "2d6fdb77",
   "metadata": {},
   "outputs": [],
   "source": [
    "a, b, c, d, e = -12, 18, 5, 10, 30\n",
    "limit = 10\n",
    "step = 0.01\n",
    "step_acr = 0.000001\n",
    "line_style = '-'\n",
    "color = 'b'\n",
    "direct_up = True"
   ]
  },
  {
   "cell_type": "code",
   "execution_count": 174,
   "id": "3a2cf380",
   "metadata": {},
   "outputs": [],
   "source": [
    "def switch_line():\n",
    "    global line_style\n",
    "    if line_style == '-':\n",
    "        line_style = '--'\n",
    "    else:\n",
    "        line_style = '-'\n",
    "    return line_style"
   ]
  },
  {
   "cell_type": "code",
   "execution_count": 175,
   "id": "2fd27bcd",
   "metadata": {},
   "outputs": [],
   "source": [
    "def switch_color():\n",
    "    global color\n",
    "    if color == 'b':\n",
    "        color = 'r'\n",
    "    else:\n",
    "        color = 'b'\n",
    "    return color"
   ]
  },
  {
   "cell_type": "code",
   "execution_count": 176,
   "id": "ffe09759",
   "metadata": {},
   "outputs": [],
   "source": [
    "def func(x):\n",
    "    f = a*x**4*np.sin(np.cos(x)) - b*x**3 + c*x**2 + d*x - e\n",
    "    return f"
   ]
  },
  {
   "cell_type": "code",
   "execution_count": 177,
   "id": "b3c1f5fa",
   "metadata": {},
   "outputs": [],
   "source": [
    "x = np.arange(-limit, limit + step, step)"
   ]
  },
  {
   "cell_type": "code",
   "execution_count": 178,
   "id": "c4092869",
   "metadata": {},
   "outputs": [],
   "source": [
    "x_change = [(-limit, 'limit')]"
   ]
  },
  {
   "cell_type": "code",
   "execution_count": 179,
   "id": "acf72e54",
   "metadata": {},
   "outputs": [],
   "source": [
    "for i in range(len(x) - 1):\n",
    "    if func(x[i]) > 0 and func(x[i+1]) < 0 or func(x[i]) < 0 and func(x[i+1]) > 0:\n",
    "        x_acr = np.arange(x[i], x[i+1] + step_acr, step_acr)\n",
    "        for j in range(len(x_acr) - 1):\n",
    "            if func(x_acr[j]) > 0 and func(x_acr[j+1]) < 0 or func(x_acr[j]) < 0 and func(x_acr[j+1]) > 0:\n",
    "                x_change.append((x_acr[j], 'zero'))\n",
    "    if direct_up:\n",
    "        if func(x[i]) > func(x[i+1]):\n",
    "            direct_up = False\n",
    "            x_change.append((x[i], 'dir'))\n",
    "    else:\n",
    "        if func(x[i]) < func(x[i+1]):\n",
    "            direct_up = True\n",
    "            x_change.append((x[i], 'dir'))"
   ]
  },
  {
   "cell_type": "code",
   "execution_count": 180,
   "id": "e546b0c9",
   "metadata": {},
   "outputs": [],
   "source": [
    "x_change.append((limit, 'limit'))"
   ]
  },
  {
   "cell_type": "code",
   "execution_count": 181,
   "id": "c38f25e8",
   "metadata": {},
   "outputs": [
    {
     "name": "stdout",
     "output_type": "stream",
     "text": [
      "[(-10, 'limit'), (-9.98, 'dir'), (-7.650622999998739, 'zero'), (-6.830000000000068, 'dir'), (-5.026865999999668, 'zero'), (-4.170000000000124, 'dir'), (-1.3389670000002696, 'zero'), (-0.39000000000020485, 'dir'), (0.44999999999977724, 'dir'), (1.6999999999997506, 'dir'), (2.2730560000001656, 'zero'), (3.8199999999997054, 'dir'), (4.383523000000186, 'zero'), (6.999999999999638, 'dir'), (8.035163999995753, 'zero'), (9.879999999999576, 'dir'), (10, 'limit')]\n"
     ]
    }
   ],
   "source": [
    "print(x_change)"
   ]
  },
  {
   "cell_type": "code",
   "execution_count": 182,
   "id": "cafb17be",
   "metadata": {},
   "outputs": [
    {
     "data": {
      "image/png": "[encoded data removed]",
      "text/plain": [
       "<Figure size 640x480 with 1 Axes>"
      ]
     },
     "metadata": {},
     "output_type": "display_data"
    }
   ],
   "source": [
    "for i in range(len(x_change) - 1):\n",
    "    cur_x = np.arange(x_change[i][0], x_change[i+1][0] + step, step)\n",
    "    if x_change [i][1] == 'zero':\n",
    "        plt.plot(x_change[i][0], func(x_change[i][0]), 'go')\n",
    "        plt.rcParams['lines.linestyle'] = switch_line()\n",
    "        plt.plot(cur_x, func(cur_x), color)\n",
    "    else:\n",
    "        plt.plot(cur_x, func(cur_x), switch_color())"
   ]
  },
  {
   "cell_type": "code",
   "execution_count": null,
   "id": "8b0a2b1e",
   "metadata": {},
   "outputs": [],
   "source": []
  }
 ],
 "metadata": {
  "kernelspec": {
   "display_name": "Python 3 (ipykernel)",
   "language": "python",
   "name": "python3"
  },
  "language_info": {
   "codemirror_mode": {
    "name": "ipython",
    "version": 3
   },
   "file_extension": ".py",
   "mimetype": "text/x-python",
   "name": "python",
   "nbconvert_exporter": "python",
   "pygments_lexer": "ipython3",
   "version": "3.10.4"
  }
 },
 "nbformat": 4,
 "nbformat_minor": 5
}
